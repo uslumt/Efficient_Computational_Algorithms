{
 "cells": [
  {
   "cell_type": "code",
   "execution_count": 49,
   "id": "independent-forward",
   "metadata": {},
   "outputs": [],
   "source": [
    "\"Import the required packages\"\n",
    "from cmath import sqrt\n",
    "import numpy as np\n",
    "from scipy.linalg import lu, svd,schur,qr\n",
    "import sklearn.datasets as data\n",
    "import time\n",
    "import matplotlib.pylab as plt\n",
    "import os\n",
    "import sklearn"
   ]
  },
  {
   "cell_type": "code",
   "execution_count": 3,
   "id": "friendly-sweden",
   "metadata": {},
   "outputs": [],
   "source": [
    "def spd_matrix(n, sparsity = None, *args):\n",
    "    \"\"\" Creates sparse or dense Semi Positive Definite matrix\n",
    "        \n",
    "        Since Levy–Desplanques theorem proved that a strictly diagonally dominant matrix is non-singular.\n",
    "        \n",
    "        args:\n",
    "            dim : int, default=1\n",
    "                The size of the random matrix to generate.\n",
    "    \n",
    "            alpha : float, default=0.95\n",
    "                The probability that a coefficient is zero. Larger values enforce more sparsity.\n",
    "                The value should be in the range 0 and 1.\n",
    "    \n",
    "            norm_diag :bool, default=False\n",
    "                    Whether to normalize the output matrix to make the leading diagonal elements all 1\n",
    "\n",
    "            smallest_coef :float, default=0.1\n",
    "                        The value of the smallest coefficient between 0 and 1.\n",
    "\n",
    "            largest_coef :float, default=0.9\n",
    "                        The value of the largest coefficient between 0 and 1.\n",
    "\n",
    "            random_state :int, RandomState instance or None, default=None\n",
    "                        Determines random number generation for dataset creation. \n",
    "                        Pass an int for reproducible output across multiple function calls.\n",
    "            \n",
    "        returns:\n",
    "            array: semi positive definite n x n dimansional matrix and sparsity rate the matrix\n",
    "        \n",
    "        Possible Error : \n",
    "            When the dimansion of the matrix increase; the alpha should be increased as well however,\n",
    "            above 600 x 600 matrix dimansion (emprically since sklearn uses randomization) yields to generating non-spd matrix.\n",
    "        \n",
    "    \"\"\"\n",
    "    \n",
    "    #if sparsity :\n",
    "    A = data.make_sparse_spd_matrix(dim = n, alpha = sparsity, norm_diag = False, \n",
    "                                    smallest_coef = 0.1, largest_coef = 0.9, random_state = None)\n",
    "        \n",
    "        \n",
    "   # else:\n",
    "        #A = data.make_spd_matrix(n, *args)\n",
    "        #print(\"dense\")\n",
    "          \n",
    "    return A"
   ]
  },
  {
   "cell_type": "code",
   "execution_count": 4,
   "id": "sustained-psychology",
   "metadata": {},
   "outputs": [],
   "source": [
    "def diagonally_dominant_matrix():\n",
    "    \"\"\" Created diagonally dominant square matrix\n",
    "    \n",
    "        Since Levy–Desplanques theorem proved that a strictly diagonally dominant matrix is non-singular\n",
    "        A matrix is strictly diagonally dominant if the absolute value of each diagonal element is strictly greater \n",
    "        than the sum of the absolute values of the remaining entries in the same row.\n",
    "        \n",
    "    \"\"\"\n",
    "    M = np.random\n",
    "    \n",
    "    "
   ]
  },
  {
   "cell_type": "code",
   "execution_count": 47,
   "id": "about-premium",
   "metadata": {},
   "outputs": [
    {
     "name": "stdout",
     "output_type": "stream",
     "text": [
      "[[ 1.          0.          0.          0.        ]\n",
      " [ 0.          1.          0.          0.        ]\n",
      " [ 0.          0.          1.         -0.54973463]\n",
      " [ 0.          0.         -0.54973463  1.30220816]]\n"
     ]
    },
    {
     "name": "stderr",
     "output_type": "stream",
     "text": [
      "C:\\Users\\uslumt\\Anaconda3\\envs\\brevitas_example\\lib\\site-packages\\sklearn\\utils\\validation.py:70: FutureWarning: Pass alpha=0.9 as keyword args. From version 1.0 (renaming of 0.25) passing these as positional arguments will result in an error\n",
      "  warnings.warn(f\"Pass {args_msg} as keyword args. From version \"\n"
     ]
    }
   ],
   "source": [
    "\"\"\" create a sparse or dense spd matrix \"\"\"\n",
    "A = data.make_sparse_spd_matrix(4,.9 )\n",
    "print(A)"
   ]
  },
  {
   "cell_type": "code",
   "execution_count": 6,
   "id": "sweet-reset",
   "metadata": {},
   "outputs": [],
   "source": [
    "def symmetry_check(a, rtol = 1e-05, atol = 1e-08):\n",
    "    \" Check if the system is symmetrc means A = Transpose of A \"\n",
    "    \n",
    "    return np.allclose(a, a.T, rtol=rtol, atol=atol)"
   ]
  },
  {
   "cell_type": "code",
   "execution_count": 7,
   "id": "acknowledged-incentive",
   "metadata": {},
   "outputs": [
    {
     "data": {
      "text/plain": [
       "True"
      ]
     },
     "execution_count": 7,
     "metadata": {},
     "output_type": "execute_result"
    }
   ],
   "source": [
    "symmetry_check(A)"
   ]
  },
  {
   "cell_type": "code",
   "execution_count": 8,
   "id": "judicial-construction",
   "metadata": {},
   "outputs": [],
   "source": [
    "def pos_semidef_check (x):\n",
    "    \" Check if all eigen values are nonnegative \"\n",
    "    \n",
    "    w,v = np.linalg.eig(x)\n",
    "    \n",
    "    #print(\"Eigenvalues :\",w)\n",
    "    #print(\"Eigenvectors :\", v)\n",
    "    return np.all(w >= 0)"
   ]
  },
  {
   "cell_type": "code",
   "execution_count": 9,
   "id": "suitable-whole",
   "metadata": {},
   "outputs": [
    {
     "data": {
      "text/plain": [
       "True"
      ]
     },
     "execution_count": 9,
     "metadata": {},
     "output_type": "execute_result"
    }
   ],
   "source": [
    "pos_semidef_check(A)"
   ]
  },
  {
   "cell_type": "code",
   "execution_count": 10,
   "id": "downtown-ebony",
   "metadata": {},
   "outputs": [],
   "source": [
    "def custom_cholesky (A):\n",
    "    \"\"\" Cholesky algorithm for decomposition of a SPD matrix, returns lower triangular matrix \"\"\"\n",
    "    \n",
    "    check = pos_semidef_check(A) and symmetry_check(A)\n",
    "    \n",
    "    if check == True:\n",
    "        \n",
    "        L = np.zeros_like(A, dtype = float) # without dtype = float it introduces rounding error\n",
    "        n = len(A)\n",
    "\n",
    "    # Perform the Cholesky decomposition\n",
    "        for i in range(n):\n",
    "            for k in range(i+1):\n",
    "                tmp_sum = sum(L[i][j] * L[k][j] for j in range(k))\n",
    "                \n",
    "                if (i == k): # Diagonal elements\n",
    "                # l_{kk} = \\sqrt{ a_{kk} - \\sum^{k-1}_{j=1} l^2_{kj}}\n",
    "                    \n",
    "                    L[i][k] = abs(sqrt(A[i][i] - tmp_sum))\n",
    "                else:\n",
    "                # l_{ik} = \\frac{1}{l_{kk}} \\left( a_{ik} - \\sum^{k-1}_{j=1} l_{ij} l_{kj} \\right)\n",
    "                    L[i][k] = abs((A[i][k] - tmp_sum) / L[k][k])\n",
    "        return L\n",
    "        \n",
    "    else:\n",
    "        return f\" Check fails \"\n",
    "    "
   ]
  },
  {
   "cell_type": "code",
   "execution_count": 11,
   "id": "hundred-custody",
   "metadata": {},
   "outputs": [
    {
     "data": {
      "text/plain": [
       "array([[1.32236082, 0.        , 0.        , 0.        ],\n",
       "       [0.65431368, 0.75622325, 0.        , 0.        ],\n",
       "       [0.19831178, 0.81943862, 1.        , 0.        ],\n",
       "       [0.17714025, 0.31987756, 0.71752961, 1.        ]])"
      ]
     },
     "execution_count": 11,
     "metadata": {},
     "output_type": "execute_result"
    }
   ],
   "source": [
    "custom_cholesky(A)"
   ]
  },
  {
   "cell_type": "code",
   "execution_count": 12,
   "id": "absolute-denmark",
   "metadata": {},
   "outputs": [],
   "source": [
    "def numpy_cholesky(A) :\n",
    "    \"\"\" Cholesky decomposition method from numpy \"\"\"\n",
    "    \n",
    "    return np.linalg.cholesky(A)"
   ]
  },
  {
   "cell_type": "code",
   "execution_count": 13,
   "id": "urban-marble",
   "metadata": {},
   "outputs": [],
   "source": [
    "def scipy_lu(A) :\n",
    "    \"\"\" LU decomposition method from numpy \"\"\"\n",
    "    \n",
    "    return lu(A)"
   ]
  },
  {
   "cell_type": "code",
   "execution_count": 14,
   "id": "photographic-malawi",
   "metadata": {},
   "outputs": [],
   "source": [
    "def numpy_spectral(A) :\n",
    "    \"\"\" Eigen decomposition method from numpy \"\"\"\n",
    "    \n",
    "    return np.linalg.eig(A)"
   ]
  },
  {
   "cell_type": "code",
   "execution_count": 15,
   "id": "international-functionality",
   "metadata": {},
   "outputs": [],
   "source": [
    "def scipy_svd(A) :\n",
    "    \"\"\" SVD decomposition method from numpy \"\"\"\n",
    "    \n",
    "    return svd(A)"
   ]
  },
  {
   "cell_type": "code",
   "execution_count": 16,
   "id": "broadband-belarus",
   "metadata": {},
   "outputs": [],
   "source": [
    "def scipy_schur(A) :\n",
    "    \"\"\" Schur decomposition method from numpy \"\"\"\n",
    "    \n",
    "    return schur(A)"
   ]
  },
  {
   "cell_type": "code",
   "execution_count": 17,
   "id": "chubby-meter",
   "metadata": {},
   "outputs": [],
   "source": [
    "def scipy_qr(A) :\n",
    "    \"\"\" QR decomposition method from numpy \"\"\"\n",
    "    \n",
    "    return qr(A)"
   ]
  },
  {
   "cell_type": "code",
   "execution_count": 18,
   "id": "developed-switzerland",
   "metadata": {},
   "outputs": [
    {
     "data": {
      "text/plain": [
       "(array([[1., 0., 0., 0.],\n",
       "        [0., 0., 0., 1.],\n",
       "        [0., 1., 0., 0.],\n",
       "        [0., 0., 1., 0.]]),\n",
       " array([[ 1.        ,  0.        ,  0.        ,  0.        ],\n",
       "        [-0.14996798,  1.        ,  0.        ,  0.        ],\n",
       "        [-0.13395757,  0.39036183,  1.        ,  0.        ],\n",
       "        [-0.49480722, -0.92285528, -0.83298349,  1.        ]]),\n",
       " array([[ 1.74863815, -0.86523878, -0.26223973, -0.23424333],\n",
       "        [ 0.        , -0.61967853,  1.67147965, -0.45540959],\n",
       "        [ 0.        ,  0.        , -1.10789144,  1.79494491],\n",
       "        [ 0.        ,  0.        ,  0.        ,  0.83298349]]))"
      ]
     },
     "execution_count": 18,
     "metadata": {},
     "output_type": "execute_result"
    }
   ],
   "source": [
    "scipy_lu(A)"
   ]
  },
  {
   "cell_type": "code",
   "execution_count": 74,
   "id": "acceptable-greek",
   "metadata": {},
   "outputs": [],
   "source": [
    "class TEST():\n",
    "    def __init__(self, mtrx, fact, typ, dim, test_run, sparsity = 0.0, *args):\n",
    "        \"\"\" Class to test how different algorithms perform factorization process\n",
    "        \n",
    "             By the help of passed different combination of variables and methods, this claass test\n",
    "             the performance of algorithms, saves the results in a npy file and read it back\n",
    "             \n",
    "            Args:\n",
    "                mtrx: str, matrix type to use e.g \"spd\" creates Semi Positive Definite, \n",
    "                    since the project in under development we will add some other specific matrices.\n",
    "                    \n",
    "                fact: str, factorization algorithm to use e.g. \"cholesky\" \n",
    "                \n",
    "                typ: str, specific factorization algorhm to use e.g. \"numpy\" returns the factorization \n",
    "                    method from that library\n",
    "                     \n",
    "                dim: int, dimantionality of the square matrix \n",
    "                    Possible change : we may change this argument as tuple to create \n",
    "                    non-square matrices for different applications\n",
    "                     \n",
    "                est_run: int, for every dimansion step we run the factorization algorithms this varible times\n",
    "                     \n",
    "            Returns:\n",
    "                results: array, averaged test results for every dimantion of the matrix\n",
    "            \n",
    "        \"\"\"\n",
    "        \n",
    "        self.matrix = { \"spd\" : spd_matrix }\n",
    "        self.factorization = { \"cholesky\" : {\"custom\" : custom_cholesky, \"numpy\" : numpy_cholesky},\n",
    "                               \"lu\" : {\"scipy\" : scipy_lu},\n",
    "                               \"spectral\" : {\"numpy\" : numpy_spectral},\n",
    "                               \"svd\" : {\"scipy\" : scipy_svd},\n",
    "                               \"schur\" : {\"scipy\" : scipy_schur},\n",
    "                               \"qr\" : {\"scipy\" : scipy_qr},\n",
    "                               }\n",
    "        \n",
    "        self.dim = dim\n",
    "        self.test_run = test_run\n",
    "        self.typ = typ\n",
    "        self.fact = fact\n",
    "        self.mtrx = mtrx\n",
    "        self.sparsity = sparsity\n",
    "        #self.A = self.matrix[mtrx](self.dim, *args)\n",
    "        #self.rate = TEST.get_sparsity(self, self.A)\n",
    "\n",
    "        \n",
    "    def stochastic_test(self):\n",
    "        results = []\n",
    "        \n",
    "        \n",
    "        for j in range(self.dim):\n",
    "            self.A = self.matrix[self.mtrx](j, self.sparsity)\n",
    "            self.rate = TEST.get_sparsity(self, self.A)\n",
    "            \n",
    "            t = 0\n",
    "            for i in range(self.test_run):\n",
    "                \n",
    "                t_0 = time.time()\n",
    "                L = self.factorization[self.fact][self.typ](self.A)\n",
    "                t_1 = time.time() \n",
    "                a = t_1 - t_0\n",
    "                t = t + a     \n",
    "                \n",
    "            T = t / self.test_run\n",
    "            results.append([j+1, T, self.rate])\n",
    "            \n",
    "        TEST.save_file(self, results, self.rate)\n",
    "            \n",
    "        #self.rate = TEST.get_sparsity(self, self.A)\n",
    "        plt.title(\"Sparsity Scheme of Main Matrix\")\n",
    "        plt.spy(self.A)\n",
    "        \n",
    "        \n",
    "        return results\n",
    "        \n",
    "        #print(t,L)\n",
    "        #for i in range(self.test_run):\n",
    "        \n",
    "    def get_sparsity(self, m):\n",
    "        self.mat = m\n",
    "        n = self.dim\n",
    "        sparsity_rate = self.mat[np.where(self.mat == 0)].size / (n*n)\n",
    "        \n",
    "        return sparsity_rate\n",
    "            \n",
    "    def save_file(self, results, rate):\n",
    "        self.current_dir = os.getcwd()\n",
    "        self.new_dir = self.current_dir+\"\\\\results_\"+self.fact\n",
    "        self.results = results\n",
    "        self.rate = str(rate)\n",
    "        \n",
    "        try : \n",
    "            os.mkdir(self.new_dir)\n",
    "        except OSError as error:\n",
    "            pass\n",
    "\n",
    "        outfile = self.typ+\"_\"+self.fact+\"_\"+str(self.dim)+\"dim\"+\"_\"+str(self.test_run)+\"run\"+\"_\"+self.rate+\"sparsity\"\n",
    "        out_path = self.new_dir+\"\\\\\"+outfile\n",
    "                \n",
    "        return np.save(out_path, self.results, allow_pickle=True, fix_imports=True)\n",
    "                          "
   ]
  },
  {
   "cell_type": "code",
   "execution_count": 75,
   "id": "destroyed-elevation",
   "metadata": {
    "scrolled": true
   },
   "outputs": [
    {
     "name": "stdout",
     "output_type": "stream",
     "text": [
      "[[1, 0.0, 0.0], [2, 0.0, 0.0], [3, 0.0, 5e-05], [4, 0.0, 0.00015], [5, 0.0, 0.0003], [6, 0.0006117582321166992, 0.0005], [7, 0.0, 0.00075], [8, 0.0, 0.00105], [9, 0.0, 0.0014], [10, 8.633136749267579e-05, 0.0018], [11, 0.0, 0.00225], [12, 0.0, 0.00275], [13, 0.0, 0.0033], [14, 0.0, 0.0039], [15, 0.0, 0.00455], [16, 0.0, 0.00525], [17, 0.0, 0.006], [18, 0.0, 0.0068], [19, 9.922981262207031e-05, 0.00765], [20, 0.0, 0.00855], [21, 0.0, 0.0095], [22, 0.0, 0.0105], [23, 0.0, 0.01155], [24, 0.0, 0.01265], [25, 0.0, 0.0138], [26, 0.0, 0.015], [27, 9.970664978027343e-05, 0.01625], [28, 0.0, 0.01755], [29, 0.0, 0.0189], [30, 0.0, 0.0203], [31, 0.0, 0.02175], [32, 0.0, 0.02325], [33, 0.0, 0.0248], [34, 0.0002989053726196289, 0.0264], [35, 0.0, 0.02805], [36, 9.97304916381836e-05, 0.02975], [37, 9.97304916381836e-05, 0.0315], [38, 0.0, 0.0333], [39, 9.965896606445312e-05, 0.03515], [40, 0.0, 0.03705], [41, 0.0, 0.039], [42, 9.968280792236329e-05, 0.041], [43, 0.00010089874267578125, 0.04305], [44, 9.980201721191407e-05, 0.04515], [45, 9.963512420654296e-05, 0.0473], [46, 0.0, 0.0495], [47, 0.0, 0.05175], [48, 9.968280792236329e-05, 0.05405], [49, 9.989738464355469e-05, 0.0564], [50, 9.968280792236329e-05, 0.0588], [51, 9.970664978027343e-05, 0.06125], [52, 9.965896606445312e-05, 0.06375], [53, 9.97781753540039e-05, 0.0663], [54, 9.975433349609374e-05, 0.0689], [55, 9.97304916381836e-05, 0.07155], [56, 0.0, 0.07425], [57, 0.0, 0.077], [58, 9.975433349609374e-05, 0.0798], [59, 0.00010008811950683594, 0.08265], [60, 9.932518005371094e-05, 0.08555], [61, 9.989738464355469e-05, 0.0885], [62, 0.00010015964508056641, 0.0915], [63, 0.0, 0.09455], [64, 0.0, 0.09765], [65, 0.00010156631469726562, 0.1008], [66, 9.779930114746093e-05, 0.104], [67, 9.970664978027343e-05, 0.10725], [68, 9.987354278564453e-05, 0.11055], [69, 9.958744049072265e-05, 0.1139], [70, 9.97304916381836e-05, 0.1173], [71, 0.00010020732879638672, 0.12075], [72, 0.00019943714141845703, 0.12425], [73, 0.00019900798797607423, 0.1278], [74, 0.00019948482513427735, 0.1314], [75, 0.00019943714141845703, 0.13505], [76, 0.0001992940902709961, 0.13875], [77, 9.975433349609374e-05, 0.1425], [78, 9.970664978027343e-05, 0.1463], [79, 0.0001995086669921875, 0.15015], [80, 0.00019948482513427735, 0.15405], [81, 9.970664978027343e-05, 0.158], [82, 9.97781753540039e-05, 0.162], [83, 0.0001993894577026367, 0.16605], [84, 9.975433349609374e-05, 0.17015], [85, 9.987354278564453e-05, 0.1743], [86, 0.00019931793212890625, 0.1785], [87, 0.0001994609832763672, 0.18275], [88, 9.97304916381836e-05, 0.18705], [89, 0.0001996755599975586, 0.1914], [90, 0.00029935836791992185, 0.1958], [91, 0.00019927024841308593, 0.20025], [92, 9.963512420654296e-05, 0.20475], [93, 0.00019936561584472657, 0.2093], [94, 0.00019953250885009765, 0.2139], [95, 0.0002989768981933594, 0.21855], [96, 0.00019958019256591797, 0.22325], [97, 0.00019943714141845703, 0.228], [98, 0.0001993417739868164, 0.2328], [99, 0.00019948482513427735, 0.23765], [100, 0.0001995563507080078, 0.24255], [101, 0.00019936561584472657, 0.2475], [102, 0.00019948482513427735, 0.2525], [103, 0.0001994609832763672, 0.25755], [104, 0.00019948482513427735, 0.26265], [105, 0.0001994609832763672, 0.2678], [106, 0.00019948482513427735, 0.273], [107, 0.00019943714141845703, 0.27825], [108, 0.0001994609832763672, 0.28355], [109, 9.970664978027343e-05, 0.2889], [110, 0.00019965171813964843, 0.2943], [111, 0.0001992940902709961, 0.29975], [112, 0.0001994609832763672, 0.30525], [113, 0.00019943714141845703, 0.3108], [114, 9.975433349609374e-05, 0.3164], [115, 0.0001994609832763672, 0.32205], [116, 0.0001995086669921875, 0.32775], [117, 9.968280792236329e-05, 0.3335], [118, 0.00019936561584472657, 0.3393], [119, 9.968280792236329e-05, 0.34515], [120, 0.00019919872283935547, 0.35105], [121, 0.00019948482513427735, 0.357], [122, 0.00019943714141845703, 0.363], [123, 0.00019943714141845703, 0.36905], [124, 0.0001995563507080078, 0.37515], [125, 0.00019943714141845703, 0.3813], [126, 0.0001994609832763672, 0.3875], [127, 9.970664978027343e-05, 0.39375], [128, 0.00019943714141845703, 0.40005], [129, 0.0002991676330566406, 0.4064], [130, 0.0001995563507080078, 0.4128], [131, 0.00019941329956054687, 0.41925], [132, 0.0002991914749145508, 0.42575], [133, 0.00019948482513427735, 0.4323], [134, 0.00019941329956054687, 0.4389], [135, 0.00019948482513427735, 0.44555], [136, 0.00019960403442382814, 0.45225], [137, 0.0001994609832763672, 0.459], [138, 0.0001994609832763672, 0.4658], [139, 0.00019943714141845703, 0.47265], [140, 0.00029926300048828126, 0.47955], [141, 0.0002991437911987305, 0.4865], [142, 0.0002991914749145508, 0.4935], [143, 0.0002991914749145508, 0.50055], [144, 0.0002991914749145508, 0.50765], [145, 0.0001994609832763672, 0.5148], [146, 0.00029923915863037107, 0.522], [147, 0.0003988981246948242, 0.52925], [148, 0.00029821395874023436, 0.53655], [149, 0.0004171609878540039, 0.5439], [150, 0.00029921531677246094, 0.5513], [151, 0.0003988027572631836, 0.55875], [152, 0.0003989219665527344, 0.56625], [153, 0.0003989219665527344, 0.5738], [154, 0.0007980108261108398, 0.5814], [155, 0.0004982948303222656, 0.58905], [156, 0.00039927959442138673, 0.59675], [157, 0.0004982709884643555, 0.6045], [158, 0.0002991437911987305, 0.6123], [159, 0.0015959978103637696, 0.62015], [160, 0.0006980180740356445, 0.62805], [161, 0.0003990650177001953, 0.636], [162, 0.0003988027572631836, 0.644], [163, 0.00039825439453125, 0.65205], [164, 0.0005986213684082032, 0.66015], [165, 0.0004988431930541993, 0.6683], [166, 0.0005981922149658203, 0.6765], [167, 0.00029921531677246094, 0.68475], [168, 0.000598454475402832, 0.69305], [169, 0.0003989458084106445, 0.7014], [170, 0.0005985021591186524, 0.7098], [171, 0.0006978273391723633, 0.71825], [172, 0.000498199462890625, 0.72675], [173, 0.0003989458084106445, 0.7353], [174, 0.0003989458084106445, 0.7439], [175, 0.001095747947692871, 0.75255], [176, 0.0005995750427246094, 0.76125], [177, 0.0004979372024536133, 0.77], [178, 0.0002991199493408203, 0.7788], [179, 0.000698089599609375, 0.78765], [180, 0.0004987955093383789, 0.79655], [181, 0.0006981611251831055, 0.8055], [182, 0.00039882659912109374, 0.8145], [183, 0.0003989219665527344, 0.82355], [184, 0.00039823055267333983, 0.83265], [185, 0.00029926300048828126, 0.8418], [186, 0.0002991676330566406, 0.851], [187, 0.0005985021591186524, 0.86025], [188, 0.00039856433868408204, 0.86955], [189, 0.0003989696502685547, 0.8789], [190, 0.0003989219665527344, 0.8883], [191, 0.0003997802734375, 0.89775], [192, 0.0004986047744750977, 0.90725], [193, 0.0003989458084106445, 0.9168], [194, 0.0003988981246948242, 0.9264], [195, 0.0004986047744750977, 0.93605], [196, 0.00039887428283691406, 0.94575], [197, 0.0005985021591186524, 0.9555], [198, 0.00039887428283691406, 0.9653], [199, 0.000498652458190918, 0.97515], [200, 0.000996875762939453, 0.98505]]\n"
     ]
    },
    {
     "data": {
      "image/png": "[encoded data removed]",
      "text/plain": [
       "<Figure size 432x288 with 1 Axes>"
      ]
     },
     "metadata": {
      "needs_background": "light"
     },
     "output_type": "display_data"
    }
   ],
   "source": [
    "t = TEST(\"spd\",\"cholesky\", \"numpy\", 200, 10, 1)\n",
    "print(t.stochastic_test())"
   ]
  },
  {
   "cell_type": "code",
   "execution_count": 76,
   "id": "biblical-history",
   "metadata": {},
   "outputs": [
    {
     "data": {
      "image/png": "[encoded data removed]",
      "text/plain": [
       "<Figure size 432x288 with 1 Axes>"
      ]
     },
     "metadata": {
      "needs_background": "light"
     },
     "output_type": "display_data"
    }
   ],
   "source": [
    "qr =np.load(os.getcwd() + \"\\\\results_cholesky\\\\numpy_cholesky_200dim_10run_0.98505sparsity.npy\")\n",
    "plt.plot(qr[:,0],qr[:,1],label='dense',color='blue')\n",
    "plt.plot(qr[:,0],qr[:,2],label='dense',color='red')\n",
    "\n",
    "#shur =np.load(os.getcwd() + \"\\\\results_cholesky\\\\custom_cholesky_150dim_10run_0.6sparsity.npy\")\n",
    "#plt.plot(shur[:,0],shur[:,1],label='sparse',color='red')\n",
    "\n",
    "#lu =np.load(os.getcwd() + \"\\\\results_cholesky\\\\custom_cholesky_150dim_2run_0sparsity.npy\")\n",
    "#plt.plot(lu[:,0],lu[:,1],label='dense',color='green')\n",
    "\n",
    "plt.xlabel('n dimension')\n",
    "plt.ylabel('Time')\n",
    "\n",
    "plt.legend()\n",
    "plt.show()"
   ]
  },
  {
   "cell_type": "code",
   "execution_count": 29,
   "id": "japanese-variation",
   "metadata": {},
   "outputs": [
    {
     "name": "stdout",
     "output_type": "stream",
     "text": [
      "1642576047.667737\n"
     ]
    }
   ],
   "source": [
    "print(time.time())"
   ]
  },
  {
   "cell_type": "code",
   "execution_count": 50,
   "id": "lonely-conditions",
   "metadata": {},
   "outputs": [
    {
     "name": "stdout",
     "output_type": "stream",
     "text": [
      "0\n",
      "1\n",
      "2\n",
      "3\n",
      "4\n",
      "5\n",
      "6\n",
      "7\n",
      "8\n",
      "9\n"
     ]
    }
   ],
   "source": [
    "for i in range(10):\n",
    "    print(i)"
   ]
  },
  {
   "cell_type": "code",
   "execution_count": null,
   "id": "atomic-digit",
   "metadata": {},
   "outputs": [],
   "source": []
  }
 ],
 "metadata": {
  "kernelspec": {
   "display_name": "Python 3",
   "language": "python",
   "name": "python3"
  },
  "language_info": {
   "codemirror_mode": {
    "name": "ipython",
    "version": 3
   },
   "file_extension": ".py",
   "mimetype": "text/x-python",
   "name": "python",
   "nbconvert_exporter": "python",
   "pygments_lexer": "ipython3",
   "version": "3.8.5"
  }
 },
 "nbformat": 4,
 "nbformat_minor": 5
}
