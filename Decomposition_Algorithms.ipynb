{
 "cells": [
  {
   "cell_type": "code",
   "execution_count": 2,
   "id": "independent-forward",
   "metadata": {},
   "outputs": [],
   "source": [
    "\"Import the required packages\"\n",
    "from cmath import sqrt\n",
    "import numpy as np\n",
    "from scipy.linalg import lu, svd,schur,qr\n",
    "import sklearn.datasets as data\n",
    "import time\n",
    "import matplotlib.pylab as plt\n",
    "import os"
   ]
  },
  {
   "cell_type": "code",
   "execution_count": 3,
   "id": "friendly-sweden",
   "metadata": {},
   "outputs": [],
   "source": [
    "def spd_matrix(n, sparsity = None, *args):\n",
    "    \"\"\" Creates sparse or dense Semi Positive Definite matrix\n",
    "    \n",
    "        args:\n",
    "            dim : int, default=1\n",
    "                The size of the random matrix to generate.\n",
    "    \n",
    "            alpha : float, default=0.95\n",
    "                The probability that a coefficient is zero. Larger values enforce more sparsity.\n",
    "                The value should be in the range 0 and 1.\n",
    "    \n",
    "            norm_diag :bool, default=False\n",
    "                    Whether to normalize the output matrix to make the leading diagonal elements all 1\n",
    "\n",
    "            smallest_coef :float, default=0.1\n",
    "                        The value of the smallest coefficient between 0 and 1.\n",
    "\n",
    "            largest_coef :float, default=0.9\n",
    "                        The value of the largest coefficient between 0 and 1.\n",
    "\n",
    "            random_state :int, RandomState instance or None, default=None\n",
    "                        Determines random number generation for dataset creation. \n",
    "                        Pass an int for reproducible output across multiple function calls.\n",
    "            \n",
    "        returns:\n",
    "            array: semi positive definite n x n dimansional matrix and sparsity rate the matrix\n",
    "        \n",
    "        Possible Error : \n",
    "            When the dimansion of the matrix increase; the alpha should be increased as well however,\n",
    "            above 600 x 600 matrix dimansion (emprically since sklearn uses randomization) yields to generating non-spd matrix.\n",
    "        \n",
    "    \"\"\"\n",
    "    \n",
    "    if sparsity :\n",
    "        A = data.make_sparse_spd_matrix(dim = n, alpha = sparsity, norm_diag = False, \n",
    "                                    smallest_coef = 0.1, largest_coef = 0.9, random_state = None)\n",
    "        \n",
    "    else:\n",
    "        A = data.make_spd_matrix(n, *args)\n",
    "          \n",
    "    return A"
   ]
  },
  {
   "cell_type": "code",
   "execution_count": null,
   "id": "overall-consistency",
   "metadata": {},
   "outputs": [],
   "source": [
    " def custom_ (self.dim):  \n",
    "    \"TODO: MAO create a matrix that can shows us the stability\"\n",
    "    A = 4x4 matrix\n",
    "    \n",
    "    "
   ]
  },
  {
   "cell_type": "code",
   "execution_count": null,
   "id": "invalid-atlanta",
   "metadata": {},
   "outputs": [],
   "source": [
    "def diagonally_dominant_matrix():\n",
    "    \"\"\" Created diagonally dominant square matrix\n",
    "    \n",
    "        Since Levy–Desplanques theorem proved that a strictly diagonally dominant matrix is non-singular\n",
    "        https://planetmath.org/levydesplanquestheorem\n",
    "        \n",
    "    \"\"\""
   ]
  },
  {
   "cell_type": "code",
   "execution_count": 44,
   "id": "about-premium",
   "metadata": {},
   "outputs": [
    {
     "name": "stdout",
     "output_type": "stream",
     "text": [
      "[[ 1.          0.          0.          0.         -0.48742963  0.\n",
      "   0.          0.          0.          0.        ]\n",
      " [ 0.          1.          0.          0.          0.          0.\n",
      "   0.          0.          0.          0.        ]\n",
      " [ 0.          0.          1.          0.          0.          0.\n",
      "   0.          0.          0.          0.        ]\n",
      " [ 0.          0.          0.          1.          0.          0.\n",
      "   0.          0.          0.          0.        ]\n",
      " [-0.48742963  0.          0.          0.          1.23758764  0.\n",
      "   0.          0.          0.          0.        ]\n",
      " [ 0.          0.          0.          0.          0.          1.\n",
      "   0.          0.          0.          0.        ]\n",
      " [ 0.          0.          0.          0.          0.          0.\n",
      "   1.          0.          0.          0.        ]\n",
      " [ 0.          0.          0.          0.          0.          0.\n",
      "   0.          1.          0.          0.        ]\n",
      " [ 0.          0.          0.          0.          0.          0.\n",
      "   0.          0.          1.41983868 -0.6479496 ]\n",
      " [ 0.          0.          0.          0.          0.          0.\n",
      "   0.          0.         -0.6479496   1.        ]]\n"
     ]
    }
   ],
   "source": [
    "\"\"\" create a sparse or dense spd matrix \"\"\"\n",
    "A = spd_matrix(10, .9)\n",
    "print(A)"
   ]
  },
  {
   "cell_type": "code",
   "execution_count": 4,
   "id": "sweet-reset",
   "metadata": {},
   "outputs": [],
   "source": [
    "def symmetry_check(a, rtol = 1e-05, atol = 1e-08):\n",
    "    \" Check if the system is symmetric means A = Transpose of A \"\n",
    "    \n",
    "    return np.allclose(a, a.T, rtol=rtol, atol=atol)"
   ]
  },
  {
   "cell_type": "code",
   "execution_count": 5,
   "id": "acknowledged-incentive",
   "metadata": {},
   "outputs": [
    {
     "data": {
      "text/plain": [
       "True"
      ]
     },
     "execution_count": 5,
     "metadata": {},
     "output_type": "execute_result"
    }
   ],
   "source": [
    "symmetry_check(A)"
   ]
  },
  {
   "cell_type": "code",
   "execution_count": 6,
   "id": "judicial-construction",
   "metadata": {},
   "outputs": [],
   "source": [
    "def pos_semidef_check (x):\n",
    "    \" Check if all eigen values are nonnegative \"\n",
    "    \n",
    "    w,v = np.linalg.eig(x)\n",
    "    \n",
    "    #print(\"Eigenvalues :\",w)\n",
    "    #print(\"Eigenvectors :\", v)\n",
    "    return np.all(w >= 0)"
   ]
  },
  {
   "cell_type": "code",
   "execution_count": 7,
   "id": "suitable-whole",
   "metadata": {},
   "outputs": [
    {
     "data": {
      "text/plain": [
       "True"
      ]
     },
     "execution_count": 7,
     "metadata": {},
     "output_type": "execute_result"
    }
   ],
   "source": [
    "pos_semidef_check(A)"
   ]
  },
  {
   "cell_type": "code",
   "execution_count": 18,
   "id": "downtown-ebony",
   "metadata": {},
   "outputs": [],
   "source": [
    "def custom_cholesky (A):\n",
    "    \"\"\" Cholesky algorithm for decomposition of a SPD matrix, returns lower triangular matrix \"\"\"\n",
    "    \n",
    "    check = pos_semidef_check(A) and symmetry_check(A)\n",
    "    \n",
    "    if check == True:\n",
    "        \n",
    "        L = np.zeros_like(A, dtype = float) # without dtype = float it introduces rounding error\n",
    "        n = len(A)\n",
    "\n",
    "    # Perform the Cholesky decomposition\n",
    "        for i in range(n):\n",
    "            for k in range(i+1):\n",
    "                tmp_sum = sum(L[i][j] * L[k][j] for j in range(k))\n",
    "                \n",
    "                if (i == k): # Diagonal elements\n",
    "                # l_{kk} = \\sqrt{ a_{kk} - \\sum^{k-1}_{j=1} l^2_{kj}}\n",
    "                    \n",
    "                    L[i][k] = abs(sqrt(A[i][i] - tmp_sum))\n",
    "                else:\n",
    "                # l_{ik} = \\frac{1}{l_{kk}} \\left( a_{ik} - \\sum^{k-1}_{j=1} l_{ij} l_{kj} \\right)\n",
    "                    L[i][k] = abs((A[i][k] - tmp_sum) / L[k][k])\n",
    "        return L\n",
    "        \n",
    "    else:\n",
    "        return f\" Check fails \"\n",
    "    "
   ]
  },
  {
   "cell_type": "code",
   "execution_count": 24,
   "id": "hundred-custody",
   "metadata": {},
   "outputs": [
    {
     "data": {
      "text/plain": [
       "array([[1.00913601, 0.        , 0.        , 0.        ],\n",
       "       [0.88573578, 1.26546181, 0.        , 0.        ],\n",
       "       [0.13425587, 0.10797586, 1.03998814, 0.        ],\n",
       "       [0.        , 0.60543495, 0.3835881 , 0.69735836]])"
      ]
     },
     "execution_count": 24,
     "metadata": {},
     "output_type": "execute_result"
    }
   ],
   "source": [
    "custom_cholesky(A)"
   ]
  },
  {
   "cell_type": "code",
   "execution_count": 39,
   "id": "absolute-denmark",
   "metadata": {},
   "outputs": [],
   "source": [
    "def numpy_cholesky(A) :\n",
    "    \"\"\" Cholesky decomposition method from numpy \"\"\"\n",
    "    \n",
    "    return np.linalg.cholesky(A)\n",
    "\n",
    "def scipy_lu(A) :\n",
    "    \"\"\" LU decomposition method from numpy \"\"\"\n",
    "    \n",
    "    return lu(A)\n",
    "\n",
    "def numpy_spectral(A) :\n",
    "    \"\"\" Eigen decomposition method from numpy \"\"\"\n",
    "    \n",
    "    return np.linalg.eig(A)\n",
    "\n",
    "def scipy_svd(A) :\n",
    "    \"\"\" SVD decomposition method from numpy \"\"\"\n",
    "    \n",
    "    return svd(A)\n",
    "\n",
    "def scipy_schur(A) :\n",
    "    \"\"\" Schur decomposition method from numpy \"\"\"\n",
    "    \n",
    "    return schur(A)\n",
    "\n",
    "def scipy_qr(A) :\n",
    "    \"\"\" QR decomposition method from numpy \"\"\"\n",
    "    \n",
    "    return qr(A)"
   ]
  },
  {
   "cell_type": "code",
   "execution_count": 40,
   "id": "clinical-peter",
   "metadata": {},
   "outputs": [
    {
     "data": {
      "text/plain": [
       "(array([[-0.84411456, -0.43889232, -0.02476152,  0.3069707 ],\n",
       "        [ 0.53616286, -0.69097549, -0.0389836 ,  0.48328307],\n",
       "        [-0.        ,  0.45643592, -0.65741376,  0.599561  ],\n",
       "        [-0.        ,  0.34870137,  0.75211322,  0.55922541]]),\n",
       " array([[-1.18467333,  1.55425375, -0.37737466, -0.28830128],\n",
       "        [ 0.        , -1.54204194,  0.78102385,  0.84397808],\n",
       "        [ 0.        ,  0.        , -0.97885487,  1.80157054],\n",
       "        [ 0.        ,  0.        ,  0.        ,  0.55922541]]))"
      ]
     },
     "execution_count": 40,
     "metadata": {},
     "output_type": "execute_result"
    }
   ],
   "source": [
    "scipy_qr(A)"
   ]
  },
  {
   "cell_type": "code",
   "execution_count": 71,
   "id": "acceptable-greek",
   "metadata": {},
   "outputs": [],
   "source": [
    "class TEST():\n",
    "    def __init__(self, mtrx, fact, typ, dim, test_run, *args):\n",
    "        \"\"\" Class to test how different algorithms perform factorization process\n",
    "        \n",
    "             By the help of passed different combination of variables and methods, this claass test\n",
    "             the performance of algorithms, saves the results in a npy file and read it back\n",
    "             \n",
    "            Args:\n",
    "                mtrx: str, matrix type to use e.g \"spd\" creates Semi Positive Definite, \n",
    "                    since the project in under development we will add some other specific matrices.\n",
    "                    \n",
    "                fact: str, factorization algorithm to use e.g. \"cholesky\" \n",
    "                \n",
    "                typ: str, specific factorization algorhm to use e.g. \"numpy\" returns the factorization \n",
    "                    method from that library\n",
    "                     \n",
    "                dim: int, dimantionality of the square matrix \n",
    "                    Possible change : we may change this argument as tuple to create \n",
    "                    non-square matrices for different applications\n",
    "                     \n",
    "                est_run: int, for every dimansion step we run the factorization algorithms this varible times\n",
    "                     \n",
    "            Returns:\n",
    "                results: array, averaged test results for every dimantion of the matrix\n",
    "            \n",
    "        \"\"\"\n",
    "        \n",
    "        self.matrix = { \"spd\" : spd_matrix,\n",
    "                      \"custom\" : return_custom_mat}\n",
    "        self.factorization = { \"cholesky\" : {\"custom\" : custom_cholesky, \"numpy\" : numpy_cholesky},\n",
    "                               \"lu\" : {\"scipy\" : scipy_lu},\n",
    "                               \"spectral\" : {\"numpy\" : numpy_spectral},\n",
    "                               \"svd\" : {\"scipy\" : scipy_svd},\n",
    "                               \"schur\" : {\"scipy\" : scipy_schur},\n",
    "                               \"qr\" : {\"scipy\" : scipy_qr},\n",
    "                               }\n",
    "        \n",
    "        self.dim = dim\n",
    "        self.test_run = test_run\n",
    "        self.typ = typ\n",
    "        self.fact = fact\n",
    "        self.A = self.matrix[mtrx](self.dim, *args)\n",
    "        \n",
    "        #TODO use some logic to create a low presicion matrix\n",
    "        if matrix = \"custom\":\n",
    "            self.A = (self.A).floating point4\n",
    "            \n",
    "        self.rate = TEST.get_sparsity(self, self.A)\n",
    "\n",
    "        \n",
    "    def stochastic_test(self,):\n",
    "        results = []\n",
    "        t = np.array(0, dtype=float)\n",
    "        \n",
    "        for j in range(self.dim):\n",
    "            for i in range(self.test_run):\n",
    "                t_0 = time.time()\n",
    "                L = self.factorization[self.fact][self.typ](self.A )\n",
    "                t_1 = time.time() - t_0\n",
    "                t = np.append(t, t_1)                \n",
    "                T = np.sum(t / self.test_run, dtype=float)\n",
    "                                \n",
    "            results.append([j+1,T])\n",
    "            # Mao PLOT THE RESULTS IN A GRAPH\n",
    "            TEST.save_file(self, results, self.rate)\n",
    "            \n",
    "        # TODO : compare A with regerated matrix    \n",
    "        B = regerate(L)\n",
    "        print(norm(A-B)\\norm(A),\"Stability Rate\")\n",
    "        \n",
    "        \n",
    "        \n",
    "        plt.title(\"Sparsity Scheme of Main Matrix\")\n",
    "        plt.spy(self.A)\n",
    "        \n",
    "        \n",
    "        return results\n",
    "        \n",
    "        #print(t,L)\n",
    "        #for i in range(self.test_run):\n",
    "    \n",
    "    \n",
    "    def regerate ():\n",
    "        \"generate the original matrix for different algorithms \"\n",
    "        \n",
    "        return Y\n",
    "    \n",
    "    def get_sparsity(self, m):\n",
    "        self.mat = m\n",
    "        n = self.dim\n",
    "        sparsity_rate = self.mat[np.where(self.mat == 0)].size / (n*n)\n",
    "        \n",
    "        return sparsity_rate\n",
    "            \n",
    "    def save_file(self, results, rate):\n",
    "        self.current_dir = os.getcwd()\n",
    "        self.new_dir = self.current_dir+\"\\\\results_\"+self.fact\n",
    "        self.results = results\n",
    "        self.rate = str(rate)\n",
    "        \n",
    "        try : \n",
    "            os.mkdir(self.new_dir)\n",
    "        except OSError as error:\n",
    "            pass\n",
    "\n",
    "        outfile = self.typ+\"_\"+self.fact+\"_\"+str(self.dim)+\"dim\"+\"_\"+str(self.test_run)+\"run\"+\"_\"+self.rate+\"sparsity\"\n",
    "        out_path = self.new_dir+\"\\\\\"+outfile\n",
    "                \n",
    "        return np.save(out_path, self.results, allow_pickle=True, fix_imports=True)\n",
    "           \n",
    "                          "
   ]
  },
  {
   "cell_type": "code",
   "execution_count": 73,
   "id": "powered-knock",
   "metadata": {},
   "outputs": [
    {
     "name": "stdout",
     "output_type": "stream",
     "text": [
      "(array([[-0.3516941 ,  0.50493622, -0.17437925,  0.76872788],\n",
      "       [-0.1473983 , -0.72004549, -0.62466364,  0.2638249 ],\n",
      "       [ 0.91786726,  0.13263924, -0.25317378,  0.27537168],\n",
      "       [ 0.11002135, -0.45714412,  0.71783721,  0.51344357]]), array([4.52156707, 0.80366755, 0.45292097, 0.21375463]), array([[-0.3516941 , -0.1473983 ,  0.91786726,  0.11002135],\n",
      "       [ 0.50493622, -0.72004549,  0.13263924, -0.45714412],\n",
      "       [-0.17437925, -0.62466364, -0.25317378,  0.71783721],\n",
      "       [ 0.76872788,  0.2638249 ,  0.27537168,  0.51344357]]))\n",
      "[[1, 0.0], [2, 0.0], [3, 0.0], [4, 0.0]]\n"
     ]
    },
    {
     "data": {
      "image/png": "[encoded data removed]",
      "text/plain": [
       "<Figure size 432x288 with 1 Axes>"
      ]
     },
     "metadata": {
      "needs_background": "light"
     },
     "output_type": "display_data"
    }
   ],
   "source": [
    "t = TEST(\"spd\",\"svd\", \"scipy\", 4, 1, 0)\n",
    "print(t.stochastic_test())"
   ]
  },
  {
   "cell_type": "code",
   "execution_count": null,
   "id": "guided-driver",
   "metadata": {},
   "outputs": [],
   "source": []
  },
  {
   "cell_type": "code",
   "execution_count": null,
   "id": "standing-probability",
   "metadata": {},
   "outputs": [],
   "source": []
  }
 ],
 "metadata": {
  "kernelspec": {
   "display_name": "Python 3",
   "language": "python",
   "name": "python3"
  },
  "language_info": {
   "codemirror_mode": {
    "name": "ipython",
    "version": 3
   },
   "file_extension": ".py",
   "mimetype": "text/x-python",
   "name": "python",
   "nbconvert_exporter": "python",
   "pygments_lexer": "ipython3",
   "version": "3.8.5"
  }
 },
 "nbformat": 4,
 "nbformat_minor": 5
}
